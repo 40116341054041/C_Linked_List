{
  "nbformat": 4,
  "nbformat_minor": 0,
  "metadata": {
    "colab": {
      "provenance": [],
      "authorship_tag": "ABX9TyNiu27br5ep9x4TxlmQwcgO",
      "include_colab_link": true
    },
    "kernelspec": {
      "name": "python3",
      "display_name": "Python 3"
    },
    "language_info": {
      "name": "python"
    }
  },
  "cells": [
    {
      "cell_type": "markdown",
      "metadata": {
        "id": "view-in-github",
        "colab_type": "text"
      },
      "source": [
        "<a href=\"https://colab.research.google.com/github/40116341054041/C_Linked_List/blob/main/C_Linked_List.ipynb\" target=\"_parent\"><img src=\"https://colab.research.google.com/assets/colab-badge.svg\" alt=\"Open In Colab\"/></a>"
      ]
    },
    {
      "cell_type": "code",
      "execution_count": 2,
      "metadata": {
        "id": "C-xxKP0_pmjw"
      },
      "outputs": [],
      "source": [
        "class node:\n",
        "  def __init__(self,d):\n",
        "    self.data = d\n",
        "    self.next = None\n",
        "\n",
        "class c_linked_list:\n",
        "  def __init__(self):\n",
        "    self.head = None\n",
        "\n",
        "#نشان دادن کل لیست\n",
        "  def display(self):\n",
        "    t = self.head\n",
        "    if t is None:\n",
        "      print(\"empty\")\n",
        "      return\n",
        "\n",
        "    while t.next !=self.head:\n",
        "      print(t.data , end = \"-->\")\n",
        "      t = t.next\n",
        "    print(t.data)\n",
        "\n",
        "#اضافه کردن به اول لیست\n",
        "  def add_in_first(self,data):\n",
        "    n = node(data)\n",
        "    if self.head == None:\n",
        "      self.head = n\n",
        "      n.next = n\n",
        "      return\n",
        "    n.next = self.head\n",
        "    t = self.head\n",
        "    while t.next != self.head:\n",
        "      t= t.next\n",
        "    t.next = n\n",
        "    self.head = n\n",
        "\n",
        "#اضافه کردن به وسظ لیست\n",
        "  def add_in_middle(self , m , data):\n",
        "    if self.head == None:\n",
        "      return -1\n",
        "    n = node(data)\n",
        "    t = self.head\n",
        "    while t.data != m :\n",
        "      t = t.next\n",
        "      if t == self.head:\n",
        "        return -1\n",
        "      n.next = t.next\n",
        "      t.next = n\n",
        "\n",
        "#حذف کردن یک نود\n",
        "  def delete(self , data):\n",
        "    if self.head == None:\n",
        "      print(\"empty\")\n",
        "      return\n",
        "    elif self.head.next == self.head:\n",
        "      if self.head.data == data:\n",
        "        self.head = None\n",
        "        return\n",
        "      return -1\n",
        "    t = self.head\n",
        "    while (t.next.data != data):\n",
        "      t = t.next\n",
        "      if t == self.head:\n",
        "        t.next = t.next.next\n",
        "        return -1\n"
      ]
    },
    {
      "cell_type": "code",
      "source": [
        "ml = c_linked_list()\n",
        "ml.add_in_first(3)\n",
        "ml.add_in_first(67)\n",
        "ml.add_in_first(23)\n",
        "ml.add_in_first(5)\n",
        "ml.delete(2)\n",
        "\n",
        "ml.display()\n"
      ],
      "metadata": {
        "colab": {
          "base_uri": "https://localhost:8080/"
        },
        "id": "lFeS1jg-poDC",
        "outputId": "64b25250-5214-4ed5-ffdd-f17ae683a457"
      },
      "execution_count": 8,
      "outputs": [
        {
          "output_type": "stream",
          "name": "stdout",
          "text": [
            "5-->67-->3\n"
          ]
        }
      ]
    }
  ]
}